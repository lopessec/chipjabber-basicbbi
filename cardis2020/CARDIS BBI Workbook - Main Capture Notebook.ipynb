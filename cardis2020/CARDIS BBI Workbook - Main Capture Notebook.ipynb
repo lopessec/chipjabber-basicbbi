{
 "cells": [
  {
   "cell_type": "markdown",
   "metadata": {},
   "source": [
    "# Supporting Material for CARDIS 2020 Paper\n",
    "\n",
    "\n",
    "This notebook is *NOT* designed to be full documentation on ChipJabber-BBI or similar tooling. This documentation is designed to show the work done in this paper, including all the fragile parts of it."
   ]
  },
  {
   "cell_type": "markdown",
   "metadata": {},
   "source": [
    "## Physical Setup\n",
    "\n",
    "The majority of the work is described in the paper at XXXXXX. The following important notes are here:\n",
    "\n",
    "* A DP832 is used to set the voltage for the BBI probe.\n",
    "* A ChipWhisperer-Lite is used for triggering. A header is mounted on JP8, and the middle of the 3-pin header (pin 2) is used to trigger the BBI tool.\n",
    "* Optionally, a PicoScope can be used to monitor the injected sigals (not required)."
   ]
  },
  {
   "cell_type": "markdown",
   "metadata": {},
   "source": [
    "## Instrument Connection Scripts\n",
    "\n",
    "The following contains various required scripts etc to connect to the instruments used. This will require you to install the following:\n",
    "\n",
    "* chipwhisperer\n",
    "* picoscope\n",
    "* pyvisa\n"
   ]
  },
  {
   "cell_type": "markdown",
   "metadata": {},
   "source": [
    "### ChipWhisperer Connection"
   ]
  },
  {
   "cell_type": "code",
   "execution_count": null,
   "metadata": {},
   "outputs": [],
   "source": [
    "PLATFORM=\"CW308_STM32F4\"\n",
    "%run \"../Helper_Scripts/Setup_Generic.ipynb\"\n",
    "scope.glitch.clk_src = \"clkgen\"\n",
    "scope.glitch.output = \"enable_only\"\n",
    "scope.glitch.trigger_src = \"ext_single\"\n",
    "scope.glitch.resetDcms()\n",
    "scope.glitch.repeat = 5\n",
    "scope.glitch.ext_offset = 260"
   ]
  },
  {
   "cell_type": "code",
   "execution_count": null,
   "metadata": {},
   "outputs": [],
   "source": [
    "scope.glitch"
   ]
  },
  {
   "cell_type": "code",
   "execution_count": null,
   "metadata": {},
   "outputs": [],
   "source": [
    "reset_target(scope)"
   ]
  },
  {
   "cell_type": "code",
   "execution_count": null,
   "metadata": {},
   "outputs": [],
   "source": [
    "# Turn the glitch on/off by enabling glitch_lp - this assumes you mount a header on JP8,\n",
    "# then use pin 2 of JP8 and route it to the BBI tool!\n",
    "scope.io.glitch_lp = True"
   ]
  },
  {
   "cell_type": "markdown",
   "metadata": {},
   "source": [
    "### DP832 - Power Supply\n",
    "\n",
    "To control the ChipJabber-SimpleBBI probe, an external power supply is used. The authors had a DP832 on-hand and choose to use this, the following is required to control the power supply to adjust the voltage. You'll need to figure out the correct connect string for the USB part."
   ]
  },
  {
   "cell_type": "code",
   "execution_count": null,
   "metadata": {},
   "outputs": [],
   "source": [
    "import visa\n",
    "\n",
    "class DP832(object):\n",
    "    def __init__(self):\n",
    "        pass\n",
    "\n",
    "    def conn(self, constr='USB0::6833::3601::DP8C152800994::0::INSTR'):\n",
    "        \"\"\"Attempt to connect to instrument\"\"\"\n",
    "        rm = visa.ResourceManager()\n",
    "        self.inst = rm.open_resource(constr)\n",
    "\n",
    "    def identify(self):\n",
    "        \"\"\"Return identify string which has serial number\"\"\"\n",
    "        return self.inst.query(\"*IDN?\")\n",
    "\n",
    "    def readings(self, channel=\"CH1\"):\n",
    "        \"\"\"Read voltage/current/power from CH1/CH2/CH3\"\"\"       \n",
    "        resp = self.inst.query(\"MEAS:ALL? %s\"%channel)\n",
    "        resp = resp.split(',')\n",
    "        dr = {\"v\":float(resp[0]), \"i\":float(resp[1]), \"p\":float(resp[2])}\n",
    "        return dr\n",
    "    \n",
    "    def set_voltage(self, voltage, channel=\"CH1\"):\n",
    "        vstring = \"%f\"%voltage\n",
    "        self.inst.write(\":APPL \" + channel + \", \" + vstring)\n",
    "        \n",
    "    def set_output(self, enabled, channel=\"CH1\"):\n",
    "        if enabled:\n",
    "            state = \"ON\"\n",
    "        else:\n",
    "            state = \"OFF\"\n",
    "        self.inst.write(\":OUTP \" + channel + \", \" + state)\n",
    "\n",
    "    def dis(self):\n",
    "        del self.inst\n",
    "\n",
    "    def writing(self, command=\"\"):\n",
    "        self.inst.write(command)\n"
   ]
  },
  {
   "cell_type": "code",
   "execution_count": null,
   "metadata": {},
   "outputs": [],
   "source": [
    "psu = DP832()\n",
    "psu.conn()\n",
    "psu.set_output(True, \"CH1\")\n",
    "psu.set_voltage(3.0, \"CH1\")"
   ]
  },
  {
   "cell_type": "markdown",
   "metadata": {},
   "source": [
    "## PicoScope PS6000 Connection"
   ]
  },
  {
   "cell_type": "code",
   "execution_count": null,
   "metadata": {},
   "outputs": [],
   "source": [
    "#If you don't have a picoscope, run this cell and not the following ones\n",
    "ps = None"
   ]
  },
  {
   "cell_type": "code",
   "execution_count": null,
   "metadata": {},
   "outputs": [],
   "source": [
    "from picoscope import ps6000\n",
    "try:\n",
    "    ps.close()\n",
    "except NameError:\n",
    "    pass\n",
    "\n",
    "ps = ps6000.PS6000()"
   ]
  },
  {
   "cell_type": "code",
   "execution_count": null,
   "metadata": {},
   "outputs": [],
   "source": [
    "res = ps.setSamplingFrequency(1.25E9, 0.8E5)\n",
    "sampleRate = res[0]\n",
    "print(\"Sampling @ %f MHz, %d samples\" % (res[0] / 1E6, res[1]))\n",
    "\n",
    "ps.setChannel(\"A\", \"DC\", 500E-3) #A has 10:1 probe on it, trigger, +/-5V range\n",
    "ps.setChannel(\"B\", \"DC\", 1) #B has 100:1 probe on it, voltage frmo injector, +/- 100V range\n",
    "ps.setChannel(\"C\", \"DC50\", 1) #C has current probe on it, /5 for A reading\n",
    "ps.setChannel(\"D\", \"DC\", 500E-3) #D has 10:1 probe on it, voltage of target on it\n",
    "\n",
    "ps.setSimpleTrigger(\"A\", 0.1, 'Rising', timeout_ms=500, enabled=True)"
   ]
  },
  {
   "cell_type": "code",
   "execution_count": null,
   "metadata": {},
   "outputs": [],
   "source": [
    "def set_voltage(volt):\n",
    "    \n",
    "    #If picoscope variable exists, change settings, otherwise we ignore it\n",
    "    if ps:    \n",
    "         #B has 10:1 probe on it, voltage frmo injector\n",
    "        if volt > 1.6:\n",
    "            ps.setChannel(\"B\", \"DC\", 5)\n",
    "        elif volt > 0.6:    \n",
    "            ps.setChannel(\"B\", \"DC\", 2)\n",
    "        else:\n",
    "            ps.setChannel(\"B\", \"DC\", 1)\n",
    "\n",
    "\n",
    "        if volt > 3:\n",
    "            ps.setChannel(\"C\", \"DC50\", 5)\n",
    "        elif volt > 2:\n",
    "            ps.setChannel(\"C\", \"DC50\", 2) #C has current probe on it, /5 for A reading\n",
    "        elif volt > 1:\n",
    "            ps.setChannel(\"C\", \"DC50\", 1)\n",
    "        else:\n",
    "            ps.setChannel(\"C\", \"DC50\", 500E-3)\n",
    "        \n",
    "        \n",
    "    psu.set_voltage(volt, \"CH1\")"
   ]
  },
  {
   "cell_type": "markdown",
   "metadata": {},
   "source": [
    "## Building HW-AES Attack Demo Firmware\n",
    "\n",
    "ChipWhisperer 'target device' firmware is modified for the WLCSP device. The attached requires you to copy the included new HAL to the correct location (forked CW firmware used for now, if a PR is submitted could be merged in presumably)"
   ]
  },
  {
   "cell_type": "code",
   "execution_count": null,
   "metadata": {},
   "outputs": [],
   "source": [
    "PLATFORM=\"CW308_STM32F4\""
   ]
  },
  {
   "cell_type": "code",
   "execution_count": null,
   "metadata": {},
   "outputs": [],
   "source": [
    "%%bash\n",
    "cd ../../hardware/victims/simpleserial-aes\n",
    "make PLATFORM=\"CW308_STM32F4\" CRYPTO_TARGET=\"HWAES\" STM32F4_WLCSP=\"1\""
   ]
  },
  {
   "cell_type": "markdown",
   "metadata": {},
   "source": [
    "### CPA Attack for Reference"
   ]
  },
  {
   "cell_type": "code",
   "execution_count": null,
   "metadata": {},
   "outputs": [],
   "source": [
    "fw_path = \"simpleserial-aes-CW308_STM32F4.hex\"\n",
    "cw.program_target(scope, prog, fw_path)"
   ]
  },
  {
   "cell_type": "code",
   "execution_count": null,
   "metadata": {},
   "outputs": [],
   "source": [
    "project = cw.create_project(\"STM32F415OG_AES.cwp\", overwrite=True)\n",
    "\n",
    "#Capture Traces\n",
    "from tqdm import tnrange, trange\n",
    "import numpy as np\n",
    "import time\n",
    "\n",
    "ktp = cw.ktp.Basic()\n",
    "\n",
    "traces = []\n",
    "N = 15000  # Number of traces\n",
    "scope.adc.samples=2000\n",
    "\n",
    "scope.gain.db = 38\n",
    "\n",
    "\n",
    "for i in trange(N, desc='Capturing traces'):\n",
    "    key, text = ktp.next()  # manual creation of a key, text pair can be substituted here\n",
    "\n",
    "    trace = cw.capture_trace(scope, target, text, key)\n",
    "    if trace is None:\n",
    "        continue\n",
    "    project.traces.append(trace)\n",
    "\n",
    "print(scope.adc.trig_count)\n",
    "project.close()"
   ]
  },
  {
   "cell_type": "code",
   "execution_count": null,
   "metadata": {},
   "outputs": [],
   "source": [
    "project = cw.open_project(\"STM32F415OG_AES\")"
   ]
  },
  {
   "cell_type": "code",
   "execution_count": null,
   "metadata": {},
   "outputs": [],
   "source": [
    "import chipwhisperer.common.api.lascar as cw_lascar\n",
    "from lascar import *\n",
    "cw_container = cw_lascar.CWContainer(project, project.textouts, start=0, end=None) #optional start and end args set start and end points for analysis\n",
    "guess_range = range(256)"
   ]
  },
  {
   "cell_type": "code",
   "execution_count": null,
   "metadata": {},
   "outputs": [],
   "source": [
    "leakage = cw_lascar.lastround_HD_gen"
   ]
  },
  {
   "cell_type": "code",
   "execution_count": null,
   "metadata": {},
   "outputs": [],
   "source": [
    "cpa_engines = [CpaEngine(\"cpa_%02d\" % i, leakage(i), guess_range) for i in range(16)]\n",
    "session = Session(cw_container, engines=cpa_engines).run(batch_size=50)"
   ]
  },
  {
   "cell_type": "code",
   "execution_count": null,
   "metadata": {},
   "outputs": [],
   "source": [
    "import chipwhisperer.analyzer as cwa\n",
    "from bokeh.plotting import figure, show\n",
    "from bokeh.io import output_notebook\n",
    "output_notebook()\n",
    "p = figure()\n",
    "key_guess = []\n",
    "\n",
    "last_round_key = cwa.aes_funcs.key_schedule_rounds(list(project.keys[0]),0,10)\n",
    "\n",
    "for i in range(16):\n",
    "    results = cpa_engines[i].finalize()\n",
    "    #results = results[:,1110:1140]\n",
    "    xrange = range(len(results[0xD0]))\n",
    "    guess = abs(results).max(1).argmax()\n",
    "    print(\"Best Guess is {:02X} (Corr = {})\".format(guess, abs(results).max()))\n",
    "    p.line(xrange, results[guess], color=\"black\")\n",
    "    p.line(xrange, results[last_round_key[i]], color=\"red\")\n",
    "    key_guess.append(guess)\n",
    "    \n",
    "show(p)"
   ]
  },
  {
   "cell_type": "code",
   "execution_count": null,
   "metadata": {},
   "outputs": [],
   "source": [
    "last_round_key = cwa.aes_funcs.key_schedule_rounds(list(project.keys[0]),0,10)\n",
    "disp = cw_lascar.LascarDisplay(cpa_engines, last_round_key)\n",
    "disp.show_pge()"
   ]
  },
  {
   "cell_type": "markdown",
   "metadata": {},
   "source": [
    "## Testing FLASH Memory Read/Write\n",
    "\n",
    "We can use the serial bootloader to dump flash memory. This is much slower than JTAG, but doesn't require other hardware. This was partially used in exploring the flash memory corruption issue (however a faster JTAG connection was also used later).\n",
    "\n",
    "The following section of code isn't required, but is included for completeness of the work."
   ]
  },
  {
   "cell_type": "code",
   "execution_count": null,
   "metadata": {},
   "outputs": [],
   "source": [
    "import time\n",
    "scope.io.target_pwr = False\n",
    "time.sleep(1)\n",
    "scope.io.target_pwr = True\n",
    "\n",
    "stm = prog()\n",
    "stm.scope = scope\n",
    "stm.open()\n",
    "stm.find()"
   ]
  },
  {
   "cell_type": "code",
   "execution_count": null,
   "metadata": {},
   "outputs": [],
   "source": [
    "#Erase memory only\n",
    "stm32f.cmdEraseMemory()\n",
    "\n",
    "\n",
    "#Erase & Program memory (disconnects after as well) - uncomment this\n",
    "#fw_path = \"simpleserial-aes-CW308_STM32F4.hex\"\n",
    "#cw.program_target(scope, prog, fw_path)"
   ]
  },
  {
   "cell_type": "code",
   "execution_count": null,
   "metadata": {},
   "outputs": [],
   "source": [
    "stm32f = stm.stm32prog()\n",
    "\n",
    "bits_prog = 0\n",
    "bytes_off = 0\n",
    "\n",
    "for i in range(0, 0xFFFFF, 0x1000):\n",
    "    data = stm32f.cmdReadMemory(0x8000000 + i, 256) #Read an example block\n",
    "\n",
    "    chunk_err = False\n",
    "    \n",
    "    for d in data:\n",
    "        diff = d ^ 0xff\n",
    "        if diff:\n",
    "            chunk_err = True\n",
    "            bytes_off += 1\n",
    "            bits_prog += bin(diff).count('1')\n",
    "            \n",
    "    if chunk_err:\n",
    "        print(\"%x --> Incorrect bits\"%(i))\n",
    "            \n",
    "        \n",
    "print(bits_prog)\n",
    "print(bytes_off)"
   ]
  },
  {
   "cell_type": "code",
   "execution_count": null,
   "metadata": {},
   "outputs": [],
   "source": [
    "for i in range(0, 50000, 256):\n",
    "    print(data)\n",
    "    data = stm32f.cmdReadMemory(0x8000000+i, 256)\n",
    "    if 0 not in data:\n",
    "        break\n",
    "            \n",
    "print(i)"
   ]
  },
  {
   "cell_type": "code",
   "execution_count": null,
   "metadata": {},
   "outputs": [],
   "source": [
    "stm.close()"
   ]
  },
  {
   "cell_type": "code",
   "execution_count": null,
   "metadata": {},
   "outputs": [],
   "source": [
    "scope.io.pdic = None"
   ]
  },
  {
   "cell_type": "code",
   "execution_count": null,
   "metadata": {},
   "outputs": [],
   "source": [
    "import time\n",
    "scope.io.target_pwr = True\n",
    "scope.glitch.output = \"enable_only\"\n",
    "#psu.set_voltage(28)\n",
    "\n",
    "scope.glitch.repeat = 150\n",
    "scope.glitch.trigger_src = \"manual\"\n",
    "\n",
    "for i in range(0, 5000):\n",
    "    scope.io.glitch_hp = True\n",
    "    scope.glitch.manual_trigger()\n",
    "    scope.io.glitch_hp = False\n",
    "    \n",
    "    #time.sleep(0.05)\n",
    "\n",
    "scope.io.target_pwr = False"
   ]
  },
  {
   "cell_type": "code",
   "execution_count": null,
   "metadata": {},
   "outputs": [],
   "source": [
    "data = stm32f.cmdReadMemory(0x8003000, 0x100)\n",
    "print(data)"
   ]
  },
  {
   "cell_type": "code",
   "execution_count": null,
   "metadata": {},
   "outputs": [],
   "source": [
    "data4 = stm32f.cmdReadMemory(0x8000000, 0x100)\n",
    "print(data4)"
   ]
  },
  {
   "cell_type": "code",
   "execution_count": null,
   "metadata": {},
   "outputs": [],
   "source": [
    "#Test board #1\n",
    "\n",
    "# Erase - then re-run super-loop\n",
    "#data3 = stm32f.cmdReadMemory(0x8000000, 0x100)\n",
    "print(data3)"
   ]
  },
  {
   "cell_type": "code",
   "execution_count": null,
   "metadata": {},
   "outputs": [],
   "source": [
    "#Test board #1\n",
    "\n",
    "#Testing after a serious FI campaign...\n",
    "#data1 = stm32f.cmdReadMemory(0x8000000, 0x100)\n",
    "#data2 = stm32f.cmdReadMemory(0x8000100, 0x100)\n",
    "print(data1)\n",
    "print(data2)"
   ]
  },
  {
   "cell_type": "markdown",
   "metadata": {},
   "source": [
    "### Capturing super-intense pulse waveform\n",
    "\n",
    "The following will generate a crazy pulse waveform by hammering the glitch output."
   ]
  },
  {
   "cell_type": "code",
   "execution_count": null,
   "metadata": {},
   "outputs": [],
   "source": [
    "scope.io.target_pwr = True\n",
    "\n",
    "\n",
    "ps.setSimpleTrigger(\"B\", 0.5, 'Rising', timeout_ms=500, enabled=True)\n",
    "\n",
    "set_voltage(25)\n",
    "scope.glitch.repeat = 50\n",
    "scope.glitch.trigger_src = \"manual\"\n",
    "\n",
    "ps.runBlock(pretrig=0.1)\n",
    "\n",
    "scope.glitch.manual_trigger()\n",
    "\n",
    "scope.io.target_pwr = False\n",
    "\n",
    "ps.waitReady()\n",
    "injector_data, current_data = get_psdata(ps)\n",
    "\n",
    "\n",
    "#Set back to default\n",
    "ps.setSimpleTrigger(\"A\", 0.1, 'Rising', timeout_ms=500, enabled=True)"
   ]
  },
  {
   "cell_type": "code",
   "execution_count": null,
   "metadata": {},
   "outputs": [],
   "source": [
    "ps.close()"
   ]
  },
  {
   "cell_type": "markdown",
   "metadata": {},
   "source": [
    "## Basic Glitch Loop\n",
    "\n",
    "The following is used when testing the \"double-loop\" glitch work. This is used for the majority of analysis effort in this paper."
   ]
  },
  {
   "cell_type": "markdown",
   "metadata": {},
   "source": [
    "### Building Glitch Firmware\n",
    "\n",
    "We use the ChipWhisperer 'glitch' firmware which implements the double-loop for us. We just need to specify we're using the WLCSP option of the STM32F4 target for the firmware to work (hopefully). Note the STM32F4_WLCSP option was added later, be sure you see `-DSTM32F4_WLCSP` based to the compiler.\n",
    "\n",
    "If you don't specify WLCSP, the software builds & runs. However the trigger pins are different, so you'll get a bunch of 'trigger timeout' messages."
   ]
  },
  {
   "cell_type": "code",
   "execution_count": null,
   "metadata": {},
   "outputs": [],
   "source": [
    "%%bash\n",
    "cd ../../hardware/victims/firmware/simpleserial-glitch\n",
    "make PLATFORM=\"CW308_STM32F4\" CRYPTO_TARGET=\"NONE\" STM32F4_WLCSP=\"1\""
   ]
  },
  {
   "cell_type": "code",
   "execution_count": null,
   "metadata": {},
   "outputs": [],
   "source": [
    "fw_path = \"../../hardware/victims/firmware/simpleserial-glitch/simpleserial-glitch-{}.hex\".format(PLATFORM)\n",
    "print(fw_path)\n",
    "cw.program_target(scope, prog, fw_path)"
   ]
  },
  {
   "cell_type": "code",
   "execution_count": null,
   "metadata": {},
   "outputs": [],
   "source": [
    "# test_mode 1 or test_mode 2 specifies the clock frequency of the target.\n",
    "# To go above 40 Mhz you need to change flash timing settings in the target, which we didn't do\n",
    "# to keep the same binary between tests.\n",
    "\n",
    "test_mode = 1\n",
    "\n",
    "#Test 1 - 7.37 MHz device clock\n",
    "if test_mode == 1:\n",
    "    scope.clock.adc_src = \"clkgen_x4\"\n",
    "    scope.clock.clkgen_freq = 7372800\n",
    "    target.baud = 38400\n",
    "\n",
    "elif test_mode == 2:\n",
    "    scope.clock.adc_src = \"clkgen_x1\"\n",
    "    scope.clock.clkgen_freq = 40E6\n",
    "    target.baud = (scope.clock.clkgen_freq / 7372800) * 38400\n",
    "    \n",
    "scope.glitch.resetDcms()"
   ]
  },
  {
   "cell_type": "markdown",
   "metadata": {},
   "source": [
    "Run the following cell - you should see an output like this:\n",
    "\n",
    "    {'valid': False, 'payload': None, 'full_response': 'ÿ\\x92ÿrRESET   \\nrC4090000\\nz00\\n', 'rv': None}\n",
    "    \n",
    "There may be other garbage first, but if the cell is working you'll see some sort of valid response."
   ]
  },
  {
   "cell_type": "code",
   "execution_count": null,
   "metadata": {},
   "outputs": [],
   "source": [
    "reset_target(scope)\n",
    "set_voltage(0)\n",
    "scope.io.glitch_lp = False\n",
    "scope.arm()\n",
    "target.write(\"g\\n\")\n",
    "ret = scope.capture()\n",
    "val = target.simpleserial_read_witherrors('r', 4) #For loop check\n",
    "print(val)\n",
    "scope.io.glitch_lp = True"
   ]
  },
  {
   "cell_type": "markdown",
   "metadata": {},
   "source": [
    "### Running Glitch Experiments"
   ]
  },
  {
   "cell_type": "markdown",
   "metadata": {},
   "source": [
    "Re-run the following cell when you want to clear the statistics."
   ]
  },
  {
   "cell_type": "code",
   "execution_count": null,
   "metadata": {
    "scrolled": true
   },
   "outputs": [],
   "source": [
    "import chipwhisperer.common.results.glitch as glitch\n",
    "gc = glitch.GlitchController(groups=[\"success\", \"reset\", \"normal\"], parameters=[\"voltage\", \"width\"])\n",
    "gc.display_stats()"
   ]
  },
  {
   "cell_type": "code",
   "execution_count": null,
   "metadata": {},
   "outputs": [],
   "source": [
    "from tqdm import tqdm_notebook\n",
    "import struct\n",
    "\n",
    "# Init target - power cycle, do reset, flush all old garbage from serial buffers\n",
    "scope.io.target_pwr = False\n",
    "time.sleep(0.25)\n",
    "scope.io.target_pwr = True\n",
    "time.sleep(0.2)\n",
    "reset_target(scope)\n",
    "target.flush()\n",
    "\n",
    "# Use a fixed offset from the trigger - we are not experimenting with time location here.\n",
    "scope.glitch.ext_offset = 200\n",
    "\n",
    "#Use 100mV for sciencing\n",
    "mv_step_size = 100\n",
    "\n",
    "#Use higher value when dialing in stuff to run fast\n",
    "#mv_step_size = 500\n",
    "\n",
    "repeat_step_size = 1\n",
    "repeat_max = 100\n",
    "\n",
    "for mv_setting in tqdm_notebook(range(100, 20000, mv_step_size)):\n",
    "    v_setting = mv_setting / 1000.0\n",
    "    set_voltage(v_setting)\n",
    "    for trial in range(0, 10):\n",
    "        resets_in_a_row = 0\n",
    "        for repeat in range(1, repeat_max, repeat_step_size):\n",
    "            \n",
    "            scope.glitch.repeat = repeat\n",
    "            \n",
    "            #As we sweep repeats upwards, don't test as far in the future\n",
    "            if resets_in_a_row > 5:\n",
    "                repeat_max = repeat\n",
    "                break\n",
    "            \n",
    "            if scope.adc.state:\n",
    "                # can detect crash here (fast) before timing out (slow)\n",
    "                print(\"Trigger still high!\")            \n",
    "            \n",
    "                reset_target(scope)\n",
    "                target.flush()\n",
    "                \n",
    "                resets_in_a_row += 1\n",
    "                \n",
    "            scope.arm()\n",
    "\n",
    "            #Do glitch loop\n",
    "            target.write(\"g\\n\")\n",
    "            ret = scope.capture()\n",
    "            val = target.simpleserial_read_witherrors('r', 4)#For loop check\n",
    "\n",
    "            if ret:\n",
    "                print('Timeout - no trigger')\n",
    "                gc.add(\"reset\", (v_setting, scope.glitch.repeat))\n",
    "                \n",
    "                resets_in_a_row += 1\n",
    "                \n",
    "                #Device is slow to boot?\n",
    "                reset_target(scope)\n",
    "                target.flush()\n",
    "\n",
    "            else:\n",
    "                if val['valid'] is False:\n",
    "                    gc.add(\"reset\", (v_setting, scope.glitch.repeat))\n",
    "                    resets_in_a_row += 1\n",
    "                else:\n",
    "                    \n",
    "                    resets_in_a_row = 0\n",
    "\n",
    "                    #print(val['payload'])\n",
    "\n",
    "                    #gcnt = struct.unpack(\"<b\", val['payload'])[0] #for code-flow check\n",
    "                    gcnt = struct.unpack(\"<I\", val['payload'])[0]\n",
    "\n",
    "                    #print(gcnt)                \n",
    "                    # for table display purposes\n",
    "                    #if gnt != 0: #for code-flow check\n",
    "                    if gcnt != 2500: #for loop check\n",
    "                        gc.add(\"success\", (v_setting, scope.glitch.repeat), metadata=val['payload'])\n",
    "                        print(val['payload'])\n",
    "                        print(\"🐙\", end=\"\")\n",
    "                    else:\n",
    "                        gc.add(\"normal\", (v_setting, scope.glitch.repeat))           "
   ]
  },
  {
   "cell_type": "code",
   "execution_count": null,
   "metadata": {},
   "outputs": [],
   "source": [
    "import numpy as np\n",
    "# Saved as \"location 1\" on chip - these locations are arbitrary\n",
    "if test_mode == 1:    \n",
    "    #np.save(\"glitchloop_7_37mhz_location1_2_20V.npy\", gc.results)\n",
    "    #gr_737mhz = copy.deepcopy(gc.results)\n",
    "    pass\n",
    "\n",
    "if test_mode == 2:\n",
    "    #np.save(\"glitchloop_40mhz_location1_1_20V_dynamic.npy\", gc.results)\n",
    "    #gr_40mhz = copy.deepcopy(gc.results)\n",
    "    pass"
   ]
  },
  {
   "cell_type": "code",
   "execution_count": null,
   "metadata": {},
   "outputs": [],
   "source": [
    "%matplotlib notebook\n",
    "gc.results.plot_2d(plotdots={\"success\":\".g\", \"reset\":\"xr\", \"normal\":\"\"})"
   ]
  },
  {
   "cell_type": "code",
   "execution_count": null,
   "metadata": {},
   "outputs": [],
   "source": [
    "%matplotlib notebook\n",
    "gr_737mhz.plot_2d(plotdots={\"success\":\".g\", \"reset\":\"xr\", \"normal\":\"\"})"
   ]
  },
  {
   "cell_type": "markdown",
   "metadata": {},
   "source": [
    "## MBED TLS Example\n",
    "\n",
    "The following performs a fault on a MBED-TLS implementation.\n",
    "\n",
    "This follows the ChipWhisperer RSA DFA tutorial - see that for more details of everything done here.\n",
    "\n",
    "Currently the additional verification is skipped."
   ]
  },
  {
   "cell_type": "code",
   "execution_count": null,
   "metadata": {},
   "outputs": [],
   "source": [
    "scope.clock.adc_src = \"clkgen_x4\"\n",
    "scope.clock.clkgen_freq = 7372800\n",
    "target.baud = 38400"
   ]
  },
  {
   "cell_type": "code",
   "execution_count": null,
   "metadata": {},
   "outputs": [],
   "source": [
    "%%bash\n",
    "cd ../../hardware/victims/firmware/simpleserial-rsa\n",
    "make PLATFORM=\"CW308_STM32F4\" CRYPTO_TARGET=\"MBEDTLS\" CRYPTO_OPTIONS=\"RSA\" OPT=\"2\" STM32F4_WLCSP=\"1\""
   ]
  },
  {
   "cell_type": "code",
   "execution_count": null,
   "metadata": {},
   "outputs": [],
   "source": [
    "scope.clock.adc_src = \"clkgen_x1\""
   ]
  },
  {
   "cell_type": "code",
   "execution_count": null,
   "metadata": {},
   "outputs": [],
   "source": [
    "import time\n",
    "fw_path = \"../../hardware/victims/firmware/simpleserial-rsa/simpleserial-rsa-{}.hex\".format(PLATFORM)\n",
    "cw.program_target(scope, prog, fw_path)"
   ]
  },
  {
   "cell_type": "code",
   "execution_count": null,
   "metadata": {},
   "outputs": [],
   "source": [
    "#reset_target(scope)\n",
    "target.baud = 38400\n",
    "scope.io.glitch_hp = False\n",
    "scope.io.nrst = None\n",
    "set_voltage(0)\n",
    "time.sleep(1)\n",
    "target.flush()\n",
    "scope.arm()\n",
    "target.write(\"t\\n\")\n",
    "\n",
    "ret = scope.capture()\n",
    "if ret:\n",
    "    print('Timeout happened during acquisition')\n",
    "    \n",
    "time.sleep(4)\n",
    "output = target.read(timeout=10)\n",
    "print(output)"
   ]
  },
  {
   "cell_type": "code",
   "execution_count": null,
   "metadata": {},
   "outputs": [],
   "source": [
    "print(\"Total RSA Signature time was %d cycles\"%scope.adc.trig_count)"
   ]
  },
  {
   "cell_type": "code",
   "execution_count": null,
   "metadata": {},
   "outputs": [],
   "source": [
    "from Crypto.Hash import SHA256\n",
    "from binascii import unhexlify, hexlify\n",
    "\n",
    "def build_message(m, N):\n",
    "    sha_id = \"3031300d060960864801650304020105000420\"\n",
    "    N_len = (len(bin(N)) - 2 + 7) // 8\n",
    "    pad_len = (len(hex(N)) - 2) // 2 - 3 - len(m)//2 - len(sha_id)//2\n",
    "    padded_m = \"0001\" + \"ff\" * pad_len + \"00\" + sha_id + m\n",
    "    return padded_m\n",
    "\n",
    "hash_object = SHA256.new(data=b\"Hello World!\")\n",
    "hashed_m = hexlify(hash_object.digest()).decode()\n",
    "padded_m = build_message(hashed_m, N)\n",
    "print(hashed_m)\n",
    "print(padded_m)"
   ]
  },
  {
   "cell_type": "code",
   "execution_count": null,
   "metadata": {},
   "outputs": [],
   "source": [
    "import gmpy2\n",
    "from gmpy2 import mpz\n",
    "from tqdm import tnrange\n",
    "import time\n",
    "\n",
    "N = 0x9292758453063D803DD603D5E777D7888ED1D5BF35786190FA2F23EBC0848AEADDA92CA6C3D80B32C4D109BE0F36D6AE7130B9CED7ACDF54CFC7555AC14EEBAB93A89813FBF3C4F8066D2D800F7C38A81AE31942917403FF4946B0A83D3D3E05EE57C6F5F5606FB5D4BC6CD34EE0801A5E94BB77B07507233A0BC7BAC8F90F79\n",
    "e = 0x10001\n",
    "\n",
    "#Settings frmo earlier\n",
    "set_voltage(5.0)\n",
    "scope.glitch.repeat = 10\n",
    "scope.io.glitch_hp = True\n",
    "\n",
    "glitch_list = []\n",
    "\n",
    "#Scanning not really needed, doesn't hurt though\n",
    "for i in tnrange(7000000, 7000100):\n",
    "    scope.glitch.ext_offset = i\n",
    "    target.flush()\n",
    "    scope.arm()\n",
    "    target.write(\"t\\n\")\n",
    "    \n",
    "    status = {'status':'', 'output':''}\n",
    "    \n",
    "    ret = scope.capture()\n",
    "    if ret:\n",
    "        print('Timeout happened during acquisition')\n",
    "    time.sleep(3)\n",
    "    \n",
    "    # Read back signature\n",
    "    output = target.read(timeout=5)\n",
    "    print(output)\n",
    "    if \"4F09799\" not in output:\n",
    "        # Something abnormal happened\n",
    "        if len(output) > 0:\n",
    "            # Possible glitch!\n",
    "            print(\"Possible glitch at offset {}\\nOutput: {}\".format(scope.glitch.ext_offset, output))\n",
    "            status['status'] = 'invalid_notexploitable'\n",
    "            \n",
    "            # Get rest of signature back\n",
    "            target.write(\"1\\n\")\n",
    "            time.sleep(0.2)\n",
    "            output += target.read(timeout=10)\n",
    "            \n",
    "            target.write(\"2\\n\")\n",
    "            time.sleep(0.2)\n",
    "            output += target.read(timeout=10)\n",
    "            \n",
    "            # Strip out extra simpleserial stuff\n",
    "            newout = output.replace(\"r\", \"\").replace(\"\\nz00\",\"\").replace(\"\\n\",\"\")\n",
    "            print(\"Full output: {}\".format(newout))\n",
    "            if (len(newout) == 256) and \"r0001F\" not in output:\n",
    "                print(\"Possible glitch!\")\n",
    "                \n",
    "                sig = unhexlify(newout)\n",
    "\n",
    "                sig_int = mpz(int.from_bytes(sig, \"big\"))\n",
    "                m_int = mpz(int.from_bytes(unhexlify(padded_m), \"big\"))\n",
    "                p_test = gmpy2.gcd(sig_int**e - m_int, N)\n",
    "\n",
    "                real_p = \"0xC36D0EB7FCD285223CFB5AABA5BDA3D82C01CAD19EA484A87EA4377637E75500FCB2005C5C7DD6EC4AC023CDA285D796C3D9E75E1EFC42488BB4F1D13AC30A57\".lower()\n",
    "                real_q = \"0xC000DF51A7C77AE8D7C7370C1FF55B69E211C2B9E5DB1ED0BF61D0D9899620F4910E4168387E3C30AA1E00C339A795088452DD96A9A5EA5D9DCA68DA636032AF\".lower()\n",
    "                if(hex(p_test) == real_p) or (hex(p_test) == real_q):\n",
    "                    print(\"Success - recovered actual key! Counting one for the good guys.\")\n",
    "                    status['status'] = 'invalid_exploitable'\n",
    "        else:\n",
    "            # Crash, reset and try again\n",
    "            print(\"Probably crashed at {}\".format(scope.glitch.ext_offset))\n",
    "            status['status'] = 'reset'\n",
    "            reset_target(scope)\n",
    "            time.sleep(0.5)\n",
    "    else:\n",
    "        status['status'] = 'normal'\n",
    "        \n",
    "    glitch_list.append(status)"
   ]
  },
  {
   "cell_type": "code",
   "execution_count": null,
   "metadata": {},
   "outputs": [],
   "source": [
    "reset = 0\n",
    "normal = 0\n",
    "exploit = 0\n",
    "other = 0\n",
    "total = len(glitch_list)\n",
    "for i in glitch_list:\n",
    "    if i['status'] == 'reset':\n",
    "        reset += 1\n",
    "    if i['status'] == 'normal':\n",
    "        normal += 1\n",
    "    if i['status'] == 'invalid_exploitable':\n",
    "        exploit += 1\n",
    "    if i['status'] == 'invalid_notexploitable':\n",
    "        other += 1\n",
    "        \n",
    "print(\"Reset: %.2f %%\"%(reset*100 / total))\n",
    "print(\"Normal: %.2f %%\"%(normal*100 / total))\n",
    "print(\"Invalid: %.2f %%\"%(other*100 / total))\n",
    "print(\"Exploit: %.2f %%\"%(exploit*100 / total))\n",
    "        \n",
    "#np.save(\"rsa_results.npy\", glitch_list)"
   ]
  },
  {
   "cell_type": "markdown",
   "metadata": {},
   "source": [
    "## DFA on AES"
   ]
  },
  {
   "cell_type": "code",
   "execution_count": null,
   "metadata": {},
   "outputs": [],
   "source": [
    "#fw_path = \"../../hardware/victims/firmware/simpleserial-aes/simeplserial-aes-{}.hex\".format(PLATFORM)\n",
    "fw_path = \"simpleserial-aes-CW308_STM32F4.hex\"\n",
    "cw.program_target(scope, prog, fw_path)"
   ]
  },
  {
   "cell_type": "code",
   "execution_count": null,
   "metadata": {},
   "outputs": [],
   "source": [
    "set_voltage(0.1)"
   ]
  },
  {
   "cell_type": "code",
   "execution_count": null,
   "metadata": {},
   "outputs": [],
   "source": [
    "reset_target(scope)"
   ]
  },
  {
   "cell_type": "code",
   "execution_count": null,
   "metadata": {},
   "outputs": [],
   "source": [
    "from Crypto.Cipher import AES\n",
    "\n",
    "def run_encryption(text, key, ps=None):\n",
    "    \n",
    "    scope.io.glitch_hp = False    \n",
    "    \n",
    "    target.set_key(key=bytes(key), ack=True)\n",
    "    \n",
    "    scope.arm()\n",
    "    target.simpleserial_write('p', bytes(text))\n",
    "    res = target.simpleserial_read_witherrors('r', 16)\n",
    "    scope.capture()\n",
    "    golden = res['payload']\n",
    "    \n",
    "    cipher = AES.new(bytes(key), AES.MODE_ECB)\n",
    "    expected = list(cipher.encrypt(bytes(text)))\n",
    "    \n",
    "    if list(golden) != list(expected):\n",
    "        print(list(golden))\n",
    "        print(list(expected))\n",
    "        reset_target(scope)\n",
    "        run_encryption([0]*16, [0x2b, 0x7e, 0x15, 0x16, 0x28, 0xae, 0xd2, 0xa6,\t0xab, 0xf7, 0x15, 0x88, 0x09, 0xcf, 0x4f, 0x3c])\n",
    "        run_encryption([0]*16, [0x2b, 0x7e, 0x15, 0x16, 0x28, 0xae, 0xd2, 0xa6,\t0xab, 0xf7, 0x15, 0x88, 0x09, 0xcf, 0x4f, 0x3c])\n",
    "        run_encryption([0]*16, [0x2b, 0x7e, 0x15, 0x16, 0x28, 0xae, 0xd2, 0xa6,\t0xab, 0xf7, 0x15, 0x88, 0x09, 0xcf, 0x4f, 0x3c])\n",
    "        raise IOError(\"Expected & Golden mis-match.\")\n",
    "        \n",
    "    \n",
    "    if ps:\n",
    "        ps.runBlock()\n",
    "    \n",
    "    scope.io.glitch_hp = True\n",
    "    \n",
    "    scope.arm()\n",
    "    target.simpleserial_write('p', bytes(text))\n",
    "    res = target.simpleserial_read_witherrors('r', 16)\n",
    "    scope.capture()\n",
    "    \n",
    "    # Reset\n",
    "    if res['valid'] == False:       \n",
    "        reset_widget.value += 1\n",
    "        scope.io.nrst = False\n",
    "        time.sleep(0.05)\n",
    "        scope.io.nrst = True\n",
    "        time.sleep(0.05)\n",
    "        target.write(\"xxxxx\\n\")\n",
    "    \n",
    "    else:\n",
    "        if res['payload'] != golden:\n",
    "            #glitch?\n",
    "            print(res['payload'])\n",
    "            \n",
    "    scope.io.glitch_hp = False\n",
    "    \n",
    "    return res\n",
    "  \n",
    "\n",
    "run_encryption([0]*16, [0x2b, 0x7e, 0x15, 0x16, 0x28, 0xae, 0xd2, 0xa6,\t0xab, 0xf7, 0x15, 0x88, 0x09, 0xcf, 0x4f, 0x3c])"
   ]
  },
  {
   "cell_type": "code",
   "execution_count": null,
   "metadata": {},
   "outputs": [],
   "source": [
    "import ipywidgets as widgets\n",
    "normal_widget = widgets.IntText (value=0, description=\"Normal\", disabled=True)\n",
    "reset_widget = widgets.IntText (value=0, description=\"Reset\", disabled=True)\n",
    "glitch_widget = widgets.IntText (value=0, description=\"Glitch\", disabled=True)\n",
    "\n",
    "display(normal_widget)\n",
    "display(reset_widget)\n",
    "display(glitch_widget)"
   ]
  },
  {
   "cell_type": "code",
   "execution_count": null,
   "metadata": {},
   "outputs": [],
   "source": [
    "from tqdm import tqdm_notebook\n",
    "text = [0]*16\n",
    "key = list(range(0, 16))\n",
    "\n",
    "normal_widget.value = 0\n",
    "reset_widget.value = 0\n",
    "glitch_widget.value = 0\n",
    "\n",
    "reset_target(scope)\n",
    "run_encryption([0]*16, [0x2b, 0x7e, 0x15, 0x16, 0x28, 0xae, 0xd2, 0xa6,\t0xab, 0xf7, 0x15, 0x88, 0x09, 0xcf, 0x4f, 0x3c])\n",
    "run_encryption([0]*16, [0x2b, 0x7e, 0x15, 0x16, 0x28, 0xae, 0xd2, 0xa6,\t0xab, 0xf7, 0x15, 0x88, 0x09, 0xcf, 0x4f, 0x3c])\n",
    "run_encryption([0]*16, [0x2b, 0x7e, 0x15, 0x16, 0x28, 0xae, 0xd2, 0xa6,\t0xab, 0xf7, 0x15, 0x88, 0x09, 0xcf, 0x4f, 0x3c])\n",
    "\n",
    "trials = []\n",
    "\n",
    "#Initial test done over 2.0 - 10.0V range, 0.1V step\n",
    "#Next test done over 10.0 - 19.0V range, 0.5V step\n",
    "for mv_setting in tqdm_notebook(range(2000, 10000, 100)):\n",
    "    set_voltage(mv_setting/1000.0)\n",
    "    for trial in range(0, 10):\n",
    "        for offset in range(250, 280):\n",
    "            scope.glitch.ext_offset = offset\n",
    "            trial = {'psu':mv_setting/1000.0, 'offset':offset, 'result':None}\n",
    "            res = 'FAIL'\n",
    "            try:                \n",
    "                res = run_encryption(text, key)\n",
    "            except OSError as e:\n",
    "                print(e)\n",
    "                \n",
    "            trial['result'] = res\n",
    "            \n",
    "            trials.append(trial)\n",
    "                "
   ]
  },
  {
   "cell_type": "code",
   "execution_count": null,
   "metadata": {},
   "outputs": [],
   "source": [
    "import numpy as np\n",
    "#trials_partial_result = trials[:]\n",
    "#np.save(\"aes_dfa_trials_july12_2020_19V.npy\", trials)"
   ]
  },
  {
   "cell_type": "code",
   "execution_count": null,
   "metadata": {},
   "outputs": [],
   "source": [
    "from picoscope import ps6000\n",
    "from tqdm import tqdm_notebook\n",
    "\n",
    "text = [0]*16\n",
    "#key = [0x2b, 0x7e, 0x15, 0x16, 0x28, 0xae, 0xd2, 0xa6,\t0xab, 0xf7, 0x15, 0x88, 0x09, 0xcf, 0x4f, 0x3c]\n",
    "key = [0]*16\n",
    "\n",
    "normal_widget.value = 0\n",
    "reset_widget.value = 0\n",
    "glitch_widget.value = 0\n",
    "\n",
    "reset_target(scope)\n",
    "run_encryption([0]*16, [0x2b, 0x7e, 0x15, 0x16, 0x28, 0xae, 0xd2, 0xa6,\t0xab, 0xf7, 0x15, 0x88, 0x09, 0xcf, 0x4f, 0x3c])\n",
    "\n",
    "for i in tqdm_notebook(range(0, 1)):\n",
    "    run_encryption(text, key, ps)\n",
    "    ps.waitReady()\n",
    "    injector_data, current_data = get_psdata(ps)"
   ]
  },
  {
   "cell_type": "code",
   "execution_count": null,
   "metadata": {},
   "outputs": [],
   "source": [
    "print(ps.getTriggerTimeOffset())"
   ]
  },
  {
   "cell_type": "markdown",
   "metadata": {},
   "source": [
    "## Volt/Current Measurement Functions"
   ]
  },
  {
   "cell_type": "code",
   "execution_count": null,
   "metadata": {},
   "outputs": [],
   "source": [
    "import numpy as np\n",
    "\n",
    "def get_psdata(ps):\n",
    "    trigger_data = ps.getDataV(\"A\") * 10.0\n",
    "    injector_data, injover = ps.getDataV(\"B\", returnOverflow=True)\n",
    "    current_data, currover = ps.getDataV(\"C\", returnOverflow=True)\n",
    "    vcc_data = ps.getDataV(\"D\")\n",
    "                                          \n",
    "    injector_data *= 100.0 #1:100 probe\n",
    "    current_data /= -5.0 #CT-6 probe uses 5mV = 1mA conversion, probe is installed \"backwards\" so we give negative sign\n",
    "    \n",
    "    if injover:\n",
    "        print(\"WARNING: Injector (chb) overflow - need to adjust hardware range\")\n",
    " \n",
    "    if currover:\n",
    "        print(\"WARNING: Current (chc) overflow - need to adjust hardware range\")\n",
    "\n",
    "    max_v_loc = np.argmax(abs(injector_data))\n",
    "    max_i_loc = np.argmax(abs(current_data))\n",
    "    \n",
    "    max_v = injector_data[max_v_loc]\n",
    "    max_i = current_data[max_i_loc]\n",
    "    \n",
    "    print(\"Pulse: %f V, %f mA [DBG: %d %d]\"%(max_v, max_i*1000, max_v_loc, max_i_loc))\n",
    "    \n",
    "    return injector_data, current_data"
   ]
  },
  {
   "cell_type": "code",
   "execution_count": null,
   "metadata": {},
   "outputs": [],
   "source": [
    "import matplotlib.pylab as plt\n",
    "fig, ax1 = plt.subplots()\n",
    "\n",
    "def align_yaxis(ax1, v1, ax2, v2):\n",
    "    \"\"\"adjust ax2 ylimit so that v2 in ax2 is aligned to v1 in ax1\"\"\"\n",
    "    _, y1 = ax1.transData.transform((0, v1))\n",
    "    _, y2 = ax2.transData.transform((0, v2))\n",
    "    adjust_yaxis(ax2,(y1-y2)/2,v2)\n",
    "    adjust_yaxis(ax1,(y2-y1)/2,v1)\n",
    "\n",
    "def adjust_yaxis(ax,ydif,v):\n",
    "    \"\"\"shift axis ax by ydiff, maintaining point v at the same location\"\"\"\n",
    "    inv = ax.transData.inverted()\n",
    "    _, dy = inv.transform((0, 0)) - inv.transform((0, ydif))\n",
    "    miny, maxy = ax.get_ylim()\n",
    "    miny, maxy = miny - v, maxy - v\n",
    "    if -miny>maxy or (-miny==maxy and dy > 0):\n",
    "        nminy = miny\n",
    "        nmaxy = miny*(maxy+dy)/(miny+dy)\n",
    "    else:\n",
    "        nmaxy = maxy\n",
    "        nminy = maxy*(miny+dy)/(maxy+dy)\n",
    "    ax.set_ylim(nminy+v, nmaxy+v)\n",
    "\n",
    "color = 'tab:blue'\n",
    "ax1.set_xlabel('Sample')\n",
    "ax1.set_ylabel('Voltage (V)', color=color)\n",
    "ax1.plot(injector_data[43000:48000], color=color)\n",
    "#ax1.tick_params(axis='y', labelcolor=color)\n",
    "\n",
    "ax2 = ax1.twinx()  # instantiate a second axes that shares the same x-axis\n",
    "\n",
    "color = 'tab:red'\n",
    "ax2.set_ylabel('Current (mA)', color=color)  # we already handled the x-label with ax1\n",
    "ax2.plot(current_data[43000:48000]*1000, color=color)\n",
    "#ax2.tick_params(axis='y', labelcolor=color)\n",
    "\n",
    "align_yaxis(ax1, 0, ax2, 0)\n",
    "\n",
    "fig.tight_layout()  # otherwise the right y-label is slightly clipped\n",
    "plt.show()\n"
   ]
  },
  {
   "cell_type": "code",
   "execution_count": null,
   "metadata": {},
   "outputs": [],
   "source": [
    "ps.close()"
   ]
  },
  {
   "cell_type": "code",
   "execution_count": null,
   "metadata": {},
   "outputs": [],
   "source": [
    "scope"
   ]
  },
  {
   "cell_type": "markdown",
   "metadata": {},
   "source": [
    "## Characterizing Drive Voltage vs. Set Current"
   ]
  },
  {
   "cell_type": "code",
   "execution_count": null,
   "metadata": {},
   "outputs": [],
   "source": [
    "import time\n",
    "\n",
    "scope.io.nrst = False\n",
    "\n",
    "drive_results = []\n",
    "\n",
    "for mv_setting in tqdm_notebook(range(100, 15000, 100)):   \n",
    "    set_voltage(mv_setting / 1000.0)\n",
    "    #Let power stabilize\n",
    "    time.sleep(0.25)\n",
    "    \n",
    "    scope.io.target_pwr = True\n",
    "    time.sleep(0.5)\n",
    "    \n",
    "    ps.runBlock()\n",
    "    scope.io.glitch_hp = True    \n",
    "    scope.arm()\n",
    "    \n",
    "    scope.io.tio4 = True\n",
    "    scope.io.tio4 = False\n",
    "    \n",
    "    scope.capture()\n",
    "    \n",
    "    ps.waitReady()\n",
    "    scope.io.target_pwr = False\n",
    "    print(mv_setting / 1000.0)\n",
    "    injector_data, current_data = get_psdata(ps)\n",
    "    \n",
    "    res = {'psu':mv_setting / 1000.0, 'injector_voltage':injector_data[:], 'injector_current':current_data[:]}\n",
    "    \n",
    "    drive_results.append(res)"
   ]
  },
  {
   "cell_type": "code",
   "execution_count": null,
   "metadata": {},
   "outputs": [],
   "source": [
    "import numpy as np\n",
    "\n",
    "#Commented out to avoid messing up stuff by accident!\n",
    "#np.save(\"drive_results.npy\", drive_results)"
   ]
  },
  {
   "cell_type": "code",
   "execution_count": null,
   "metadata": {},
   "outputs": [],
   "source": [
    "#Release target afterwards\n",
    "\n",
    "scope.io.tio4 = None\n",
    "scope.io.target_pwr = False\n",
    "time.sleep(0.5)\n",
    "scope.io.target_pwr = True\n",
    "scope.io.nrst = None"
   ]
  },
  {
   "cell_type": "code",
   "execution_count": null,
   "metadata": {},
   "outputs": [],
   "source": [
    "#Read data back to check\n",
    "drive_results_read = np.load(\"drive_results.npy\", allow_pickle=True)\n",
    "\n",
    "psu_setting = []\n",
    "max_vol = []\n",
    "max_cur = []\n",
    "\n",
    "#Build array to plot\n",
    "for i in range(0, len(drive_results_read)):\n",
    "    result = drive_results_read[i]\n",
    "    psu_setting.append(result['psu'])\n",
    "    max_vol.append(max(abs(result['injector_voltage'])))\n",
    "    max_cur.append(max(abs(result['injector_current']))) \n",
    "    \n",
    "    print(\"Index %d = %f\"%(i, result['psu']))"
   ]
  },
  {
   "cell_type": "code",
   "execution_count": null,
   "metadata": {},
   "outputs": [],
   "source": [
    "import matplotlib.pylab as plt\n",
    "plt.figure()\n",
    "plt.plot(psu_setting, max_vol)\n",
    "plt.title('Injection Voltage')\n",
    "\n",
    "plt.figure()\n",
    "plt.plot(psu_setting, max_cur)\n",
    "plt.title('Injection Current')\n",
    "\n",
    "plt.figure()\n",
    "plt.plot(drive_results_read[29]['injector_voltage'][44000:48000])\n",
    "\n",
    "plt.figure()\n",
    "plt.plot(drive_results_read[29]['injector_current'][44000:48000])\n",
    "\n",
    "plt.figure()\n",
    "plt.plot(drive_results_read[100]['injector_voltage'][44000:48000])\n",
    "\n",
    "plt.figure()\n",
    "plt.plot(drive_results_read[100]['injector_current'][44000:48000])"
   ]
  }
 ],
 "metadata": {
  "kernelspec": {
   "display_name": "Python 3",
   "language": "python",
   "name": "python3"
  },
  "language_info": {
   "codemirror_mode": {
    "name": "ipython",
    "version": 3
   },
   "file_extension": ".py",
   "mimetype": "text/x-python",
   "name": "python",
   "nbconvert_exporter": "python",
   "pygments_lexer": "ipython3",
   "version": "3.7.4"
  }
 },
 "nbformat": 4,
 "nbformat_minor": 2
}
